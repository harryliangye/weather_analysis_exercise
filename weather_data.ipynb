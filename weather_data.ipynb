{
 "cells": [
  {
   "cell_type": "code",
   "execution_count": 1,
   "id": "61dfe51b-3512-4904-a0c9-a9acbe19e8ef",
   "metadata": {},
   "outputs": [],
   "source": [
    "import pandas as pd\n",
    "from pyspark.sql import SparkSession\n",
    "from pyspark.sql import functions as F\n",
    "from pyspark.ml.feature import VectorAssembler\n",
    "from pyspark.ml.regression import LinearRegression\n",
    "from pyspark.sql.window import Window"
   ]
  },
  {
   "cell_type": "code",
   "execution_count": 2,
   "id": "50a5fc79-b933-4b4e-8327-9a0d552da40e",
   "metadata": {},
   "outputs": [],
   "source": [
    "#### Data Preparation Stage"
   ]
  },
  {
   "cell_type": "code",
   "execution_count": 3,
   "id": "cddd5259-aa74-4502-b924-06511ccefcff",
   "metadata": {},
   "outputs": [],
   "source": [
    "### Helper function design\n",
    "def load_data_as_sqlview(table_name: str, file_pattern: str, spark: SparkSession):\n",
    "    # Use the specified file_pattern to read the files\n",
    "    df = spark.read.option(\"header\", \"true\").option(\"inferSchema\", \"true\").csv(file_pattern)\n",
    "    # Create a temporary SQL view for the DataFrame\n",
    "    df.createOrReplaceTempView(table_name)\n",
    "    return df\n",
    "\n",
    "def run_and_show(spark, query, lines=3):\n",
    "    result = spark.sql(query)\n",
    "    result.show(lines)\n",
    "    return result"
   ]
  },
  {
   "cell_type": "code",
   "execution_count": 4,
   "id": "81bb3503-d61e-46b3-90b4-861b2b8673a1",
   "metadata": {},
   "outputs": [],
   "source": [
    "# Create spark session\n",
    "spark = SparkSession.builder.appName(\"WeatherDataProcessing\").getOrCreate()"
   ]
  },
  {
   "cell_type": "code",
   "execution_count": 5,
   "id": "1425fada-0960-4bcc-aa9a-171c71931781",
   "metadata": {},
   "outputs": [],
   "source": [
    "# Start loading data"
   ]
  },
  {
   "cell_type": "code",
   "execution_count": 6,
   "id": "c0a1fd01-d5a0-4136-b544-8c4e6c6d2770",
   "metadata": {},
   "outputs": [],
   "source": [
    "station_reading = load_data_as_sqlview(\n",
    "    table_name=\"station_reading\",\n",
    "    file_pattern = \"/home/jovyan/data/2019/part-*.csv.gz\",\n",
    "    spark=spark)"
   ]
  },
  {
   "cell_type": "code",
   "execution_count": 7,
   "id": "db5e8c4c-b1bd-493d-8261-042963e94c06",
   "metadata": {},
   "outputs": [],
   "source": [
    "station_list = load_data_as_sqlview(\n",
    "    table_name=\"station_list\",\n",
    "    file_pattern = \"/home/jovyan/stationlist.csv\",\n",
    "    spark=spark)"
   ]
  },
  {
   "cell_type": "code",
   "execution_count": 8,
   "id": "f81c024a-61fd-470b-ba2d-688a09a04e4d",
   "metadata": {},
   "outputs": [],
   "source": [
    "country_list = load_data_as_sqlview(\n",
    "    table_name=\"country_list\",\n",
    "    file_pattern = \"/home/jovyan/countrylist.csv\",\n",
    "    spark=spark)"
   ]
  },
  {
   "cell_type": "code",
   "execution_count": 9,
   "id": "f723a6b0-116f-4ce0-b2d1-4a962a72a951",
   "metadata": {},
   "outputs": [
    {
     "name": "stdout",
     "output_type": "stream",
     "text": [
      "+------+-----+--------+----+----+------+------+-----+----+-----+----+-----+-----+-----+-----+------+\n",
      "|STN---| WBAN|YEARMODA|TEMP|DEWP|   SLP|   STP|VISIB|WDSP|MXSPD|GUST|  MAX|  MIN| PRCP| SNDP|FRSHTT|\n",
      "+------+-----+--------+----+----+------+------+-----+----+-----+----+-----+-----+-----+-----+------+\n",
      "| 10260|99999|20190101|26.1|21.2|1001.9| 987.5| 20.6| 9.0| 15.9|29.7| 29.8|21.7*|0.02G| 18.5|  1000|\n",
      "| 10260|99999|20190102|24.9|22.1|1020.1|1005.5|  5.4| 5.6| 13.6|22.1|27.1*| 20.7|0.48G| 22.8|  1000|\n",
      "| 10260|99999|20190103|31.7|29.1|1008.9| 994.7| 13.6|11.6| 21.4|49.5|37.4*|26.8*|0.25G|999.9| 11000|\n",
      "+------+-----+--------+----+----+------+------+-----+----+-----+----+-----+-----+-----+-----+------+\n",
      "only showing top 3 rows\n",
      "\n"
     ]
    }
   ],
   "source": [
    "# Check data\n",
    "station_reading.show(3)"
   ]
  },
  {
   "cell_type": "code",
   "execution_count": 10,
   "id": "c3e486d8-a9e3-414e-8fea-75fefd340054",
   "metadata": {},
   "outputs": [],
   "source": [
    "# rename column name\n",
    "station_reading = station_reading.withColumnRenamed(\"STN---\", \"STN_NO_RD\")\n",
    "station_reading.createOrReplaceTempView('station_reading')"
   ]
  },
  {
   "cell_type": "code",
   "execution_count": 11,
   "id": "ad62a75f-8218-4f83-bcac-5d131dfa317e",
   "metadata": {},
   "outputs": [
    {
     "name": "stdout",
     "output_type": "stream",
     "text": [
      "+------+------------+\n",
      "|STN_NO|COUNTRY_ABBR|\n",
      "+------+------------+\n",
      "|012240|          NO|\n",
      "|020690|          SW|\n",
      "|020870|          SW|\n",
      "+------+------------+\n",
      "only showing top 3 rows\n",
      "\n"
     ]
    }
   ],
   "source": [
    "# Check data\n",
    "station_list.show(3)"
   ]
  },
  {
   "cell_type": "code",
   "execution_count": 12,
   "id": "fa7b13b4-b78f-4ffd-890b-2f6baf2cbe0b",
   "metadata": {},
   "outputs": [
    {
     "name": "stdout",
     "output_type": "stream",
     "text": [
      "+------------+-------------------+\n",
      "|COUNTRY_ABBR|       COUNTRY_FULL|\n",
      "+------------+-------------------+\n",
      "|          AA|              ARUBA|\n",
      "|          AC|ANTIGUA AND BARBUDA|\n",
      "|          AF|        AFGHANISTAN|\n",
      "+------------+-------------------+\n",
      "only showing top 3 rows\n",
      "\n"
     ]
    }
   ],
   "source": [
    "# Check data\n",
    "country_list.show(3)"
   ]
  },
  {
   "cell_type": "code",
   "execution_count": 14,
   "id": "90dc10a6-aaae-4a24-8f1d-0a3b05500bbb",
   "metadata": {},
   "outputs": [],
   "source": [
    "# Join the DataFrames using DataFrame operations\n",
    "station_reading_full = station_reading\\\n",
    "    .join(station_list,  station_list[\"STN_NO\"].cast(\"int\") == station_reading[\"STN_NO_RD\"].cast(\"int\"), how=\"left\")\\\n",
    "    .join(country_list, station_list[\"COUNTRY_ABBR\"] == country_list[\"COUNTRY_ABBR\"], how=\"left\")\n",
    "station_reading_full.createOrReplaceTempView('station_reading_full')"
   ]
  },
  {
   "cell_type": "code",
   "execution_count": 15,
   "id": "9ef646d0-9ab4-428f-8df7-052cf94b7c15",
   "metadata": {},
   "outputs": [
    {
     "name": "stdout",
     "output_type": "stream",
     "text": [
      "+---------+-----+--------+----+----+------+------+-----+----+-----+----+-----+-----+-----+-----+------+------+------------+------------+------------+\n",
      "|STN_NO_RD| WBAN|YEARMODA|TEMP|DEWP|   SLP|   STP|VISIB|WDSP|MXSPD|GUST|  MAX|  MIN| PRCP| SNDP|FRSHTT|STN_NO|COUNTRY_ABBR|COUNTRY_ABBR|COUNTRY_FULL|\n",
      "+---------+-----+--------+----+----+------+------+-----+----+-----+----+-----+-----+-----+-----+------+------+------------+------------+------------+\n",
      "|    10260|99999|20190101|26.1|21.2|1001.9| 987.5| 20.6| 9.0| 15.9|29.7| 29.8|21.7*|0.02G| 18.5|  1000|010260|          NO|          NO|      NORWAY|\n",
      "|    10260|99999|20190102|24.9|22.1|1020.1|1005.5|  5.4| 5.6| 13.6|22.1|27.1*| 20.7|0.48G| 22.8|  1000|010260|          NO|          NO|      NORWAY|\n",
      "|    10260|99999|20190103|31.7|29.1|1008.9| 994.7| 13.6|11.6| 21.4|49.5|37.4*|26.8*|0.25G|999.9| 11000|010260|          NO|          NO|      NORWAY|\n",
      "+---------+-----+--------+----+----+------+------+-----+----+-----+----+-----+-----+-----+-----+------+------+------------+------------+------------+\n",
      "\n"
     ]
    },
    {
     "data": {
      "text/plain": [
       "DataFrame[STN_NO_RD: int, WBAN: int, YEARMODA: int, TEMP: double, DEWP: double, SLP: double, STP: double, VISIB: double, WDSP: double, MXSPD: double, GUST: double, MAX: string, MIN: string, PRCP: string, SNDP: double, FRSHTT: int, STN_NO: string, COUNTRY_ABBR: string, COUNTRY_ABBR: string, COUNTRY_FULL: string]"
      ]
     },
     "execution_count": 15,
     "metadata": {},
     "output_type": "execute_result"
    }
   ],
   "source": [
    "# Check data\n",
    "query = \"SELECT * FROM station_reading_full LIMIT 3\"\n",
    "run_and_show(spark=spark, query=query)"
   ]
  },
  {
   "cell_type": "code",
   "execution_count": 16,
   "id": "c0ef32c0-c298-4781-befc-2bc2dc081b64",
   "metadata": {},
   "outputs": [
    {
     "name": "stdout",
     "output_type": "stream",
     "text": [
      "+-----+-----+\n",
      "|  slo|   sr|\n",
      "+-----+-----+\n",
      "|12144|12144|\n",
      "+-----+-----+\n",
      "\n"
     ]
    },
    {
     "data": {
      "text/plain": [
       "DataFrame[slo: bigint, sr: bigint]"
      ]
     },
     "execution_count": 16,
     "metadata": {},
     "output_type": "execute_result"
    }
   ],
   "source": [
    "# Check join\n",
    "query = \"\"\"\n",
    "SELECT \n",
    "    COUNT(DISTINCT STN_NO) AS slo,\n",
    "    COUNT(DISTINCT STN_NO_RD) AS sr\n",
    "FROM station_reading_full;\n",
    "\"\"\"\n",
    "run_and_show(spark=spark, query=query)"
   ]
  },
  {
   "cell_type": "code",
   "execution_count": 17,
   "id": "d46d5b84-c855-47f3-bc52-de9cbffc5e94",
   "metadata": {
    "scrolled": true
   },
   "outputs": [
    {
     "name": "stdout",
     "output_type": "stream",
     "text": [
      "+------+---------+\n",
      "|STN_NO|STN_NO_RD|\n",
      "+------+---------+\n",
      "|043390|    43390|\n",
      "|013800|    13800|\n",
      "|020950|    20950|\n",
      "+------+---------+\n",
      "only showing top 3 rows\n",
      "\n"
     ]
    },
    {
     "data": {
      "text/plain": [
       "DataFrame[STN_NO: string, STN_NO_RD: int]"
      ]
     },
     "execution_count": 17,
     "metadata": {},
     "output_type": "execute_result"
    }
   ],
   "source": [
    "# Check join\n",
    "query = \"\"\"\n",
    "SELECT DISTINCT STN_NO, STN_NO_RD\n",
    "FROM station_reading_full\n",
    "WHERE STN_NO_RD IS NOT NULL \n",
    "    AND STN_NO IS NOT NULL \n",
    "    AND CAST(STN_NO AS STRING) <> CAST(STN_NO_RD AS STRING)\n",
    "LIMIT 10;\n",
    "\"\"\"\n",
    "run_and_show(spark=spark, query=query)"
   ]
  },
  {
   "cell_type": "code",
   "execution_count": 18,
   "id": "4a562582-d593-4748-8d0d-3012fb61f9c4",
   "metadata": {},
   "outputs": [
    {
     "name": "stdout",
     "output_type": "stream",
     "text": [
      "+------+---------+\n",
      "|STN_NO|STN_NO_RD|\n",
      "+------+---------+\n",
      "+------+---------+\n",
      "\n"
     ]
    },
    {
     "data": {
      "text/plain": [
       "DataFrame[STN_NO: string, STN_NO_RD: int]"
      ]
     },
     "execution_count": 18,
     "metadata": {},
     "output_type": "execute_result"
    }
   ],
   "source": [
    "# Check join\n",
    "query = \"\"\"\n",
    "SELECT DISTINCT STN_NO, STN_NO_RD\n",
    "FROM station_reading_full\n",
    "WHERE STN_NO_RD IS NOT NULL \n",
    "    AND STN_NO IS NULL\n",
    "LIMIT 10;\n",
    "\"\"\"\n",
    "run_and_show(spark=spark, query=query)"
   ]
  },
  {
   "cell_type": "code",
   "execution_count": 19,
   "id": "b1df0334-bac4-4650-b464-5b1de5016cb5",
   "metadata": {},
   "outputs": [],
   "source": [
    "#### Answering Question Stage"
   ]
  },
  {
   "cell_type": "code",
   "execution_count": 20,
   "id": "f39f8742-f39f-417f-b7ba-88c1211ba1bc",
   "metadata": {},
   "outputs": [],
   "source": [
    "### 1. Which country had the hottest average mean temperature over the year?"
   ]
  },
  {
   "cell_type": "code",
   "execution_count": 21,
   "id": "cbce1e86-4966-438b-9571-bf02017591d5",
   "metadata": {},
   "outputs": [
    {
     "name": "stdout",
     "output_type": "stream",
     "text": [
      "+--------+--------+\n",
      "|max_date|min_date|\n",
      "+--------+--------+\n",
      "|20200101|20190101|\n",
      "+--------+--------+\n",
      "\n"
     ]
    },
    {
     "data": {
      "text/plain": [
       "DataFrame[max_date: int, min_date: int]"
      ]
     },
     "execution_count": 21,
     "metadata": {},
     "output_type": "execute_result"
    }
   ],
   "source": [
    "# Check date, to make sure we only have 1 year of data\n",
    "query = \"\"\"\n",
    "SELECT \n",
    "    MAX(YEARMODA) AS max_date,\n",
    "    MIN(YEARMODA) AS min_date\n",
    "FROM station_reading_full\n",
    "LIMIT 3;\n",
    "\"\"\"\n",
    "run_and_show(spark=spark, query=query)"
   ]
  },
  {
   "cell_type": "code",
   "execution_count": 22,
   "id": "81186943-a034-4959-9f2e-b24f21b77eec",
   "metadata": {},
   "outputs": [
    {
     "name": "stdout",
     "output_type": "stream",
     "text": [
      "+------------+-----------------+\n",
      "|COUNTRY_FULL|    avg_mean_temp|\n",
      "+------------+-----------------+\n",
      "|    DJIBOUTI|90.06114457831323|\n",
      "+------------+-----------------+\n",
      "\n"
     ]
    },
    {
     "data": {
      "text/plain": [
       "DataFrame[COUNTRY_FULL: string, avg_mean_temp: double]"
      ]
     },
     "execution_count": 22,
     "metadata": {},
     "output_type": "execute_result"
    }
   ],
   "source": [
    "query = \"\"\"\n",
    "WITH mt AS (\n",
    "    SELECT COUNTRY_FULL, YEARMODA,  AVG(TEMP) AS mean_temp\n",
    "    FROM station_reading_full\n",
    "    WHERE \n",
    "        YEARMODA BETWEEN 20190101 AND 20191231\n",
    "        AND TEMP <> 9999.9\n",
    "    GROUP BY COUNTRY_FULL, YEARMODA\n",
    "    )\n",
    "    \n",
    "SELECT \n",
    "    COUNTRY_FULL, \n",
    "    AVG(mean_temp) AS avg_mean_temp\n",
    "FROM mt\n",
    "GROUP BY COUNTRY_FULL\n",
    "ORDER BY AVG(mean_temp) DESC\n",
    "LIMIT 1;\n",
    "\"\"\"\n",
    "run_and_show(spark=spark, query=query)"
   ]
  },
  {
   "cell_type": "code",
   "execution_count": 23,
   "id": "91332d78-487d-4479-b436-53831fa3917b",
   "metadata": {},
   "outputs": [],
   "source": [
    "### 2. Which country had the most consecutive days of tornadoes/funnel cloud formations?"
   ]
  },
  {
   "cell_type": "code",
   "execution_count": 24,
   "id": "e63e2515-22ac-4c89-bca7-6a80add78532",
   "metadata": {},
   "outputs": [
    {
     "name": "stdout",
     "output_type": "stream",
     "text": [
      "+-----------+-------+\n",
      "|len(FRSHTT)|    cnt|\n",
      "+-----------+-------+\n",
      "|          1|2807103|\n",
      "|          2|  33583|\n",
      "|          4| 188837|\n",
      "|          5| 897708|\n",
      "|          6| 234103|\n",
      "+-----------+-------+\n",
      "\n"
     ]
    },
    {
     "data": {
      "text/plain": [
       "DataFrame[len(FRSHTT): int, cnt: bigint]"
      ]
     },
     "execution_count": 24,
     "metadata": {},
     "output_type": "execute_result"
    }
   ],
   "source": [
    "query = \"\"\"\n",
    "SELECT LEN(FRSHTT),\n",
    "    COUNT(1) AS cnt\n",
    "FROM station_reading_full\n",
    "GROUP BY LEN(FRSHTT)\n",
    "ORDER BY LEN(FRSHTT);\n",
    "\"\"\"\n",
    "run_and_show(spark=spark, query=query, lines=10)"
   ]
  },
  {
   "cell_type": "code",
   "execution_count": 25,
   "id": "2fe35e91-cb26-4797-ba89-33023fc457fe",
   "metadata": {},
   "outputs": [
    {
     "name": "stdout",
     "output_type": "stream",
     "text": [
      "+------------+--------+-------+\n",
      "|COUNTRY_FULL|YEARMODA|tornado|\n",
      "+------------+--------+-------+\n",
      "| AFGHANISTAN|20190101|      0|\n",
      "| AFGHANISTAN|20190102|      0|\n",
      "| AFGHANISTAN|20190103|      0|\n",
      "+------------+--------+-------+\n",
      "only showing top 3 rows\n",
      "\n"
     ]
    }
   ],
   "source": [
    "query = \"\"\"\n",
    "SELECT \n",
    "    COUNTRY_FULL,\n",
    "    YEARMODA,\n",
    "    MAX(CASE WHEN LEN(FRSHTT) = 6 AND SUBSTRING(FRSHTT, 6, 1) = '1' THEN 1 ELSE 0 END) AS tornado\n",
    "FROM station_reading_full\n",
    "WHERE COUNTRY_FULL IS NOT NULL\n",
    "GROUP BY COUNTRY_FULL, YEARMODA\n",
    "ORDER BY COUNTRY_FULL, YEARMODA ASC\n",
    ";\n",
    "\"\"\"\n",
    "df_q3 = run_and_show(spark=spark, query=query)"
   ]
  },
  {
   "cell_type": "code",
   "execution_count": 26,
   "id": "faf02dd0-cf8a-4faf-a45a-6584cd47e3f2",
   "metadata": {},
   "outputs": [
    {
     "data": {
      "text/plain": [
       "{'country': 'AUSTRIA, BAHAMAS THE, CANADA, COLOMBIA, CUBA, GEORGIA, GHANA, ICELAND, IRAN, ITALY, MADAGASCAR, NEPAL, NORWAY, POLAND, ROMANIA, RUSSIA, SPAIN, TURKEY, UNITED STATES',\n",
       " 'tor_day': 1}"
      ]
     },
     "execution_count": 26,
     "metadata": {},
     "output_type": "execute_result"
    }
   ],
   "source": [
    "def find_consec_tornado_per_country(spark_df):\n",
    "    country_stat = dict()  # country_name -> max consecutive tornado days\n",
    "    df = spark_df.collect()  # Convert to a local Pandas DataFrame\n",
    "    current_country = \"\"\n",
    "    tor_days = 0\n",
    "    for row in df:\n",
    "        country_name = row['COUNTRY_FULL']\n",
    "        tor = row['tornado']\n",
    "        if country_name != current_country:\n",
    "            if country_name not in country_stat:\n",
    "                country_stat[country_name] = 0\n",
    "            if current_country != \"\":\n",
    "                country_stat[current_country] = tor_days if tor_days > country_stat[current_country] else country_stat[current_country]\n",
    "            tor_days = 0\n",
    "            current_country = country_name\n",
    "        if tor == 1:\n",
    "            tor_days += 1\n",
    "        else:\n",
    "            country_stat[country_name] = tor_days if tor_days > country_stat[country_name] else country_stat[country_name]\n",
    "            tor_days = 0\n",
    "    return country_stat\n",
    "\n",
    "def find_max_country(country_max):\n",
    "    max_tor = {\n",
    "        'country': \"\",\n",
    "        'tor_day': -1\n",
    "    }\n",
    "    for c_name in country_max:\n",
    "        if country_max[c_name] > max_tor['tor_day']:\n",
    "            max_tor['country'] = c_name\n",
    "            max_tor['tor_day'] = country_max[c_name]\n",
    "        elif country_max[c_name] == max_tor['tor_day']:\n",
    "            max_tor['country'] += f\", {c_name}\"\n",
    "    return max_tor\n",
    "\n",
    "country_max = find_consec_tornado_per_country(df_q3)\n",
    "find_max_country(country_max)"
   ]
  },
  {
   "cell_type": "code",
   "execution_count": 27,
   "id": "58110ee5-afcb-41fa-8442-2e26e2ea8f67",
   "metadata": {},
   "outputs": [
    {
     "name": "stdout",
     "output_type": "stream",
     "text": [
      "+----------+\n",
      "|max_consec|\n",
      "+----------+\n",
      "|         1|\n",
      "+----------+\n",
      "\n"
     ]
    },
    {
     "data": {
      "text/plain": [
       "DataFrame[max_consec: bigint]"
      ]
     },
     "execution_count": 27,
     "metadata": {},
     "output_type": "execute_result"
    }
   ],
   "source": [
    "# To validate the answer, use the following SQL query to see if there's any country that has at least two(2) consecutive tornado days\n",
    "query = \"\"\"\n",
    "WITH ct AS (\n",
    "    SELECT \n",
    "        COUNTRY_FULL,\n",
    "        YEARMODA,\n",
    "        MAX(CASE WHEN LEN(FRSHTT) = 6 AND SUBSTRING(FRSHTT, 6, 1) = '1' THEN 1 ELSE 0 END) AS tornado\n",
    "    FROM station_reading_full\n",
    "    WHERE COUNTRY_FULL IS NOT NULL\n",
    "    GROUP BY COUNTRY_FULL, YEARMODA\n",
    "    ORDER BY COUNTRY_FULL, YEARMODA ASC\n",
    "    ),\n",
    "    \n",
    "    cs AS (\n",
    "    SELECT \n",
    "        COUNTRY_FULL,\n",
    "        YEARMODA,\n",
    "        SUM(tornado) OVER (PARTITION BY COUNTRY_FULL ORDER BY YEARMODA ROWS BETWEEN 1 PRECEDING AND CURRENT ROW) AS consec\n",
    "    FROM ct\n",
    "    )\n",
    "    \n",
    "SELECT MAX(consec) AS max_consec\n",
    "FROM cs;\n",
    "\"\"\"\n",
    "run_and_show(spark=spark, query=query)"
   ]
  },
  {
   "cell_type": "code",
   "execution_count": 28,
   "id": "ac34471b-72c2-45b5-a61a-bbb4484e73ee",
   "metadata": {},
   "outputs": [],
   "source": [
    "### 3. Which country had the second highest average mean wind speed over the year?"
   ]
  },
  {
   "cell_type": "code",
   "execution_count": 29,
   "id": "b2d4b013-d013-4a07-b950-772cb4a70996",
   "metadata": {},
   "outputs": [
    {
     "name": "stdout",
     "output_type": "stream",
     "text": [
      "+------------+------------------+----+\n",
      "|COUNTRY_FULL|     avg_mean_wdsp|rank|\n",
      "+------------+------------------+----+\n",
      "|       ARUBA|15.981917808219182|   2|\n",
      "+------------+------------------+----+\n",
      "\n"
     ]
    },
    {
     "data": {
      "text/plain": [
       "DataFrame[COUNTRY_FULL: string, avg_mean_wdsp: double, rank: int]"
      ]
     },
     "execution_count": 29,
     "metadata": {},
     "output_type": "execute_result"
    }
   ],
   "source": [
    "query = \"\"\"\n",
    "WITH mt AS (\n",
    "    SELECT COUNTRY_FULL, YEARMODA,  AVG(WDSP) AS mean_wdsp\n",
    "    FROM station_reading_full\n",
    "    WHERE \n",
    "        YEARMODA BETWEEN 20190101 AND 20191231\n",
    "        AND WDSP <> 999.9\n",
    "    GROUP BY COUNTRY_FULL, YEARMODA\n",
    "    ),\n",
    "    \n",
    "    rk AS (SELECT \n",
    "        COUNTRY_FULL, \n",
    "        AVG(mean_wdsp) AS avg_mean_wdsp,\n",
    "        ROW_NUMBER() OVER (ORDER BY AVG(mean_wdsp) DESC) AS rank\n",
    "    FROM mt\n",
    "    GROUP BY COUNTRY_FULL)\n",
    "\n",
    "SELECT *\n",
    "FROM rk\n",
    "WHERE rank = 2;\n",
    "\"\"\"\n",
    "run_and_show(spark=spark, query=query)"
   ]
  },
  {
   "cell_type": "code",
   "execution_count": null,
   "id": "d34c1458-a6b0-41b1-9d41-a6d784a0a60f",
   "metadata": {},
   "outputs": [],
   "source": [
    "### [POTENTIAL IMPROVEMENT] Impute missing data by cross station regression [Takes long time, not applying this at the moment]\n",
    "spark.conf.set(\"spark.sql.pivotMaxValues\", \"50000\")\n",
    "\n",
    "# Pivot the DataFrame to have a column for TEMP value for each station for each day within a country\n",
    "pivot_df = station_reading_full.groupBy(\"COUNTRY_FULL\", \"YEARMODA\").pivot(\"STN_NO\").agg(F.first(\"TEMP\"))\n",
    "\n",
    "# Placeholder for the results\n",
    "imputed_rows = []\n",
    "\n",
    "# Get the list of unique countries\n",
    "countries = [row['COUNTRY_FULL'] for row in pivot_df.select(\"COUNTRY_FULL\").distinct().collect()]\n",
    "\n",
    "# Loop through each country and impute missing values for each station using regression\n",
    "for country in countries:\n",
    "    group_df = pivot_df.filter(pivot_df[\"COUNTRY_FULL\"] == country)\n",
    "    stations = [row['STN_NO'] for row in station_reading_full.filter(station_reading_full[\"COUNTRY_FULL\"] == country).select(\"STN_NO\").distinct().collect()]\n",
    "    for station in stations:\n",
    "        # If there's a missing TEMP value (9999.9) within the group for the station\n",
    "        if group_df.filter(group_df[station] == 9999.9).count() > 0:\n",
    "            \n",
    "            # Features for regression (all stations except the current one)\n",
    "            features = [s for s in stations if s != station]\n",
    "\n",
    "            # Prepare the data\n",
    "            assembler = VectorAssembler(inputCols=features, outputCol=\"features\")\n",
    "            assembled_df = assembler.transform(group_df).na.drop(subset=[\"features\"])\n",
    "\n",
    "            # Separate training and testing data\n",
    "            train_df = assembled_df.filter(assembled_df[station] != 999.9)\n",
    "            test_df = assembled_df.filter(assembled_df[station] == 999.9)\n",
    "\n",
    "            # Linear regression model\n",
    "            lr = LinearRegression(featuresCol=\"features\", labelCol=station)\n",
    "            model = lr.fit(train_df)\n",
    "\n",
    "            # Predict the missing TEMP values\n",
    "            predictions = model.transform(test_df)\n",
    "            imputed_rows.extend(predictions.select(\"COUNTRY_FULL\", \"YEARMODA\", station).collect())\n",
    "\n",
    "# Convert the imputed rows back to the original format\n",
    "converted_rows = []\n",
    "\n",
    "for row in imputed_rows:\n",
    "    # Extracting station number from column name\n",
    "    station_no = [col for col in row.asDict().keys() if F.col.isdigit()][0]\n",
    "    country = row[\"COUNTRY_FULL\"]\n",
    "    date = row[\"YEARMODA\"]\n",
    "    temp_value = row[station_no]\n",
    "    converted_rows.append((country, date, station_no, temp_value))\n",
    "\n",
    "imputed_df = spark.createDataFrame(converted_rows, [\"COUNTRY_FULL\", \"YEARMODA\", \"STN_NO\", \"TEMP\"])\n",
    "imputed_df.show()"
   ]
  }
 ],
 "metadata": {
  "kernelspec": {
   "display_name": "Python 3 (ipykernel)",
   "language": "python",
   "name": "python3"
  },
  "language_info": {
   "codemirror_mode": {
    "name": "ipython",
    "version": 3
   },
   "file_extension": ".py",
   "mimetype": "text/x-python",
   "name": "python",
   "nbconvert_exporter": "python",
   "pygments_lexer": "ipython3",
   "version": "3.11.5"
  }
 },
 "nbformat": 4,
 "nbformat_minor": 5
}
